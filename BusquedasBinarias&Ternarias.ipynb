{
 "cells": [
  {
   "cell_type": "code",
   "execution_count": 99,
   "metadata": {},
   "outputs": [],
   "source": [
    "import random\n",
    "import timeit\n",
    "import matplotlib.pyplot as plt\n",
    "import numpy as np\n",
    "import scipy as sp\n",
    "import scipy.special\n",
    "import math    \n",
    "\n",
    "\n",
    "def  busquedaBinaria(A ,query):\n",
    "    mitad = math.floor(len(A)/2)\n",
    "    if(A[mitad] == query):\n",
    "        return A[mitad]\n",
    "    if(query >= A[mitad]):\n",
    "        return (busquedaBinaria(A[mitad:len(A)],query))\n",
    "    else:\n",
    "        return (busquedaBinaria(A[0:mitad],query))\n",
    "    \n",
    "def busquedaTernaria(A, query):\n",
    "    mitadTernaria = math.floor(len(A)/3)\n",
    "    n = len(A)\n",
    "    if n <= 3:\n",
    "        #print(\"Busqueda Secuencial dentro del ternario\", A)\n",
    "        return busquedaSecuencial(A,query)\n",
    "    else:\n",
    "        if query <= A[(mitadTernaria -1)]:\n",
    "            #print(\"Busqueda en la parte inicial del array:\",A[0:mitadTernaria])\n",
    "            return busquedaTernaria(A[0:mitadTernaria],query)\n",
    "        else: \n",
    "            if query <= A[(math.floor(len(A)*(2/3)))-1]:\n",
    "                #print(\"Busqueda en el medio:\",A[mitadTernaria:math.floor(len(A)*(2/3))])\n",
    "                return busquedaTernaria(A[mitadTernaria:math.floor(len(A)*(2/3))],query)\n",
    "            else:\n",
    "                #print(\"Busqueda en la parte final del array:\",A[math.floor(len(A)*(2/3)):len(A)])\n",
    "                return busquedaTernaria(A[math.floor(len(A)*(2/3)):len(A)],query)\n",
    "    \n",
    "def busquedaSecuencial(A,query):\n",
    "    l = len(A)\n",
    "    n = 0\n",
    "    res = -1\n",
    "    print()\n",
    "    while l != n:\n",
    "        if A[n] == query:\n",
    "            res = A[n]\n",
    "            #print(\"Searched!:\",res)\n",
    "            break\n",
    "        else:\n",
    "            n = n+1\n",
    "    return res    \n",
    "    \n",
    "    \n",
    "def generateArrayOrdenado(n):\n",
    "    t =0\n",
    "    res = []\n",
    "    while  t != n:\n",
    "        res.append(t)\n",
    "        t= t +1\n",
    "    return res\n",
    "\n",
    "def GenerateListForMicrobench(callable_obj, iteraciones,n_min,n_max,array):\n",
    "    t_quick_2 = list()\n",
    "    suma = 0\n",
    "    for i in range(0,iteraciones):\n",
    "        v = random.sample(range(n_min, n_max), 1)[0]\n",
    "        suma += timeit.timeit(lambda: callable_obj(array,v), number = 1)\n",
    "        promedio = suma / iteraciones\n",
    "        t_quick_2.append(promedio)\n",
    "    return t_quick_2\n",
    "    "
   ]
  },
  {
   "cell_type": "code",
   "execution_count": 102,
   "metadata": {},
   "outputs": [
    {
     "name": "stdout",
     "output_type": "stream",
     "text": [
      "\n",
      "\n",
      "\n",
      "\n",
      "\n",
      "\n",
      "\n",
      "\n",
      "\n",
      "\n"
     ]
    },
    {
     "data": {
      "text/plain": [
       "<matplotlib.legend.Legend at 0x1d7a98737c0>"
      ]
     },
     "execution_count": 102,
     "metadata": {},
     "output_type": "execute_result"
    },
    {
     "data": {
      "image/png": "[encoded data removed]",
      "text/plain": [
       "<Figure size 432x288 with 1 Axes>"
      ]
     },
     "metadata": {
      "needs_background": "light"
     },
     "output_type": "display_data"
    }
   ],
   "source": [
    "\n",
    "n_min = 0\n",
    "n_max = 10000\n",
    "st = 1000\n",
    "iteraciones = 10 # iteraciones del benchmark\n",
    "array = generateArrayOrdenado(10000)\n",
    "t_busquedaBinaria_1 = GenerateListForMicrobench(busquedaBinaria,iteraciones,n_min,n_max,array)\n",
    "t_busquedaTernaria_1 = GenerateListForMicrobench(busquedaTernaria,iteraciones,n_min,n_max,array)\n",
    "\n",
    "    \n",
    "eje_x = list(range(n_min, n_max, st))\n",
    "plt.plot(eje_x, t_busquedaBinaria_1, label = 'busquedaBinaria')\n",
    "plt.xlabel('n')\n",
    "plt.ylabel('costo')\n",
    "plt.plot(eje_x, t_busquedaTernaria_1, label = 'BusquedaTernaria')\n",
    "plt.legend()\n"
   ]
  },
  {
   "cell_type": "code",
   "execution_count": null,
   "metadata": {},
   "outputs": [],
   "source": []
  },
  {
   "cell_type": "code",
   "execution_count": null,
   "metadata": {},
   "outputs": [],
   "source": []
  }
 ],
 "metadata": {
  "kernelspec": {
   "display_name": "Python 3",
   "language": "python",
   "name": "python3"
  },
  "language_info": {
   "codemirror_mode": {
    "name": "ipython",
    "version": 3
   },
   "file_extension": ".py",
   "mimetype": "text/x-python",
   "name": "python",
   "nbconvert_exporter": "python",
   "pygments_lexer": "ipython3",
   "version": "3.8.3"
  }
 },
 "nbformat": 4,
 "nbformat_minor": 4
}
